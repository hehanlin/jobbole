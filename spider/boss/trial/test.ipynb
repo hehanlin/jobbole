{
 "cells": [
  {
   "cell_type": "code",
   "execution_count": 2,
   "metadata": {
    "collapsed": true
   },
   "outputs": [],
   "source": [
    "from urllib.parse import quote_plus\n",
    "import requests\n",
    "from spider.consts import LAGOU\n",
    "from spider.lagou import http_headers"
   ]
  },
  {
   "cell_type": "code",
   "execution_count": 66,
   "metadata": {},
   "outputs": [],
   "source": [
    "headers = http_headers()\n",
    "headers.update({\n",
    "    'Origin': 'https://www.lagou.com',\n",
    "    'Referer': 'https://www.lagou.com/jobs/list_php?city=%E5%85%A8%E5%9B%BD&cl=false&fromSearch=true&labelWords=&suginput=',\n",
    "    'X-Anit-Forge-Code': '0',\n",
    "    'X-Anit-Forge-Token': 'None',\n",
    "    'X-Requested-With': 'XMLHttpRequest'\n",
    "})\n",
    "r = requests.post(LAGOU.JOB_JSON_URL, headers=headers, data={'first': 'false', 'pn': '314', 'kd': 'php'})"
   ]
  },
  {
   "cell_type": "code",
   "execution_count": 67,
   "metadata": {},
   "outputs": [
    {
     "data": {
      "text/plain": [
       "200"
      ]
     },
     "execution_count": 67,
     "metadata": {},
     "output_type": "execute_result"
    }
   ],
   "source": [
    "r.status_code"
   ]
  },
  {
   "cell_type": "code",
   "execution_count": 68,
   "metadata": {},
   "outputs": [],
   "source": [
    "import json"
   ]
  },
  {
   "cell_type": "code",
   "execution_count": 69,
   "metadata": {},
   "outputs": [],
   "source": [
    "obj = json.loads(r.text)"
   ]
  },
  {
   "cell_type": "code",
   "execution_count": 70,
   "metadata": {},
   "outputs": [
    {
     "data": {
      "text/plain": [
       "{'hotLabels': None,\n 'locationInfo': {'businessZone': None,\n  'city': None,\n  'district': None,\n  'locationCode': None,\n  'queryByGisCode': False},\n 'queryAnalysisInfo': {'companyName': None,\n  'industryName': None,\n  'positionName': 'php',\n  'usefulCompany': False},\n 'result': [],\n 'resultSize': 0,\n 'strategyProperty': {'id': 0, 'name': 'dm-csearch-useUserInterest'},\n 'totalCount': 4688}"
      ]
     },
     "execution_count": 70,
     "metadata": {},
     "output_type": "execute_result"
    }
   ],
   "source": [
    "obj['content']['positionResult']"
   ]
  },
  {
   "cell_type": "code",
   "execution_count": null,
   "metadata": {},
   "outputs": [],
   "source": [
    ""
   ]
  }
 ],
 "metadata": {
  "kernelspec": {
   "display_name": "Python 2",
   "language": "python",
   "name": "python2"
  },
  "language_info": {
   "codemirror_mode": {
    "name": "ipython",
    "version": 2.0
   },
   "file_extension": ".py",
   "mimetype": "text/x-python",
   "name": "python",
   "nbconvert_exporter": "python",
   "pygments_lexer": "ipython2",
   "version": "2.7.6"
  }
 },
 "nbformat": 4,
 "nbformat_minor": 0
}