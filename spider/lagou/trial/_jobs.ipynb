{
 "cells": [
  {
   "cell_type": "code",
   "execution_count": 1,
   "metadata": {
    "collapsed": true
   },
   "outputs": [],
   "source": [
    "import requests"
   ]
  },
  {
   "cell_type": "code",
   "execution_count": 2,
   "metadata": {},
   "outputs": [],
   "source": [
    "from spider.lagou import http_headers"
   ]
  },
  {
   "cell_type": "code",
   "execution_count": 3,
   "metadata": {},
   "outputs": [],
   "source": [
    "headers = http_headers()"
   ]
  },
  {
   "cell_type": "code",
   "execution_count": 4,
   "metadata": {},
   "outputs": [
    {
     "data": {
      "text/plain": [
       "{'Accept': 'text/html,application/xhtml+xml,application/xml;q=0.9,image/webp,image/apng,*/*;q=0.8',\n 'Accept-Encoding': 'gzip, deflate',\n 'Accept-Language': 'zh-CN,zh;q=0.8',\n 'Cache-Control': 'no-cache',\n 'Connection': 'keep-alive',\n 'Host': 'www.lagou.com',\n 'Pragma': 'no-cache',\n 'Referer': 'https://www.lagou.com',\n 'Upgrade-Insecure-Requests': '1',\n 'User-Agent': 'Mozilla/5.0 (Windows NT 5.1) AppleWebKit/537.36 (KHTML, like Gecko) Chrome/36.0.1985.67 Safari/537.36'}"
      ]
     },
     "execution_count": 4,
     "metadata": {},
     "output_type": "execute_result"
    }
   ],
   "source": [
    "headers"
   ]
  },
  {
   "cell_type": "code",
   "execution_count": 5,
   "metadata": {},
   "outputs": [],
   "source": [
    "from spider.consts import LAGOU"
   ]
  },
  {
   "cell_type": "code",
   "execution_count": 13,
   "metadata": {},
   "outputs": [],
   "source": [
    "from urllib.parse import quote_plus"
   ]
  },
  {
   "cell_type": "code",
   "execution_count": 14,
   "metadata": {},
   "outputs": [],
   "source": [
    "search_url = LAGOU.JOB_SEARCH_URL.format(keyword=quote_plus('php'),\n",
    "                                         city=quote_plus('全国'))"
   ]
  },
  {
   "cell_type": "code",
   "execution_count": 15,
   "metadata": {},
   "outputs": [
    {
     "data": {
      "text/plain": [
       "'https://www.lagou.com/jobs/list_php?city=%E5%85%A8%E5%9B%BD&cl=false&fromSearch=true&labelWords=&suginput='"
      ]
     },
     "execution_count": 15,
     "metadata": {},
     "output_type": "execute_result"
    }
   ],
   "source": [
    "search_url"
   ]
  },
  {
   "cell_type": "code",
   "execution_count": 16,
   "metadata": {},
   "outputs": [],
   "source": [
    "r = requests.get(search_url, headers=headers)"
   ]
  },
  {
   "cell_type": "code",
   "execution_count": 17,
   "metadata": {},
   "outputs": [
    {
     "data": {
      "text/plain": [
       "200"
      ]
     },
     "execution_count": 17,
     "metadata": {},
     "output_type": "execute_result"
    }
   ],
   "source": [
    "r.status_code"
   ]
  },
  {
   "cell_type": "code",
   "execution_count": 18,
   "metadata": {},
   "outputs": [
    {
     "data": {
      "text/plain": [
       "{'Server': 'nfs/1.0.0.2', 'Date': 'Tue, 21 Nov 2017 09:24:17 GMT', 'Content-Type': 'text/html;charset=UTF-8', 'Transfer-Encoding': 'chunked', 'Connection': 'keep-alive', 'Vary': 'Accept-Encoding', 'Set-Cookie': 'JSESSIONID=ABAAABAABEEAAJA94CC00D4F0BC2C30FEC2089845D1857C; Path=/; HttpOnly, SEARCH_ID=0465515888ff47e69ed315772cc4ba23; Version=1; Max-Age=86400; Expires=Wed, 22-Nov-2017 09:24:16 GMT; Path=/, user_trace_token=20171121172417-7b938825-036b-433f-aa3f-e20d70015ebf; Max-Age=31536000; Path=/; Domain=.lagou.com; ', 'REQUEST_ID': '17323b78-14d4-46b0-b9b1-d65cb8cb3a64', 'Content-Language': 'zh-CN', 'Cache-Control': 'no-cache', 'Content-Encoding': 'gzip'}"
      ]
     },
     "execution_count": 18,
     "metadata": {},
     "output_type": "execute_result"
    }
   ],
   "source": [
    "r.headers"
   ]
  },
  {
   "cell_type": "code",
   "execution_count": 19,
   "metadata": {},
   "outputs": [
    {
     "data": {
      "text/plain": [
       "<RequestsCookieJar[Cookie(version=0, name='user_trace_token', value='20171121172417-7b938825-036b-433f-aa3f-e20d70015ebf', port=None, port_specified=False, domain='.lagou.com', domain_specified=True, domain_initial_dot=True, path='/', path_specified=True, secure=False, expires=1542746596, discard=False, comment=None, comment_url=None, rest={}, rfc2109=False), Cookie(version=0, name='JSESSIONID', value='ABAAABAABEEAAJA94CC00D4F0BC2C30FEC2089845D1857C', port=None, port_specified=False, domain='www.lagou.com', domain_specified=False, domain_initial_dot=False, path='/', path_specified=True, secure=False, expires=None, discard=True, comment=None, comment_url=None, rest={'HttpOnly': None}, rfc2109=False), Cookie(version=0, name='SEARCH_ID', value='0465515888ff47e69ed315772cc4ba23', port=None, port_specified=False, domain='www.lagou.com', domain_specified=False, domain_initial_dot=False, path='/', path_specified=True, secure=False, expires=1511296996, discard=False, comment=None, comment_url=None, rest={}, rfc2109=True)]>"
      ]
     },
     "execution_count": 19,
     "metadata": {},
     "output_type": "execute_result"
    }
   ],
   "source": [
    "r.cookies"
   ]
  },
  {
   "cell_type": "code",
   "execution_count": 20,
   "metadata": {},
   "outputs": [],
   "source": [
    "headers.update({\n",
    "    'Origin': 'https://www.lagou.com',\n",
    "    'Referer': 'https://www.lagou.com/jobs/list_php?city=%E5%85%A8%E5%9B%BD&cl=false&fromSearch=true&labelWords=&suginput=',\n",
    "    'X-Anit-Forge-Code': '0',\n",
    "    'X-Anit-Forge-Token': 'None',\n",
    "    'X-Requested-With': 'XMLHttpRequest'\n",
    "})"
   ]
  },
  {
   "cell_type": "code",
   "execution_count": 22,
   "metadata": {},
   "outputs": [
    {
     "data": {
      "text/plain": [
       "{'Accept': 'text/html,application/xhtml+xml,application/xml;q=0.9,image/webp,image/apng,*/*;q=0.8',\n 'Accept-Encoding': 'gzip, deflate',\n 'Accept-Language': 'zh-CN,zh;q=0.8',\n 'Cache-Control': 'no-cache',\n 'Connection': 'keep-alive',\n 'Host': 'www.lagou.com',\n 'Origin': 'https://www.lagou.com',\n 'Pragma': 'no-cache',\n 'Referer': 'https://www.lagou.com/jobs/list_php?city=%E5%85%A8%E5%9B%BD&cl=false&fromSearch=true&labelWords=&suginput=',\n 'Upgrade-Insecure-Requests': '1',\n 'User-Agent': 'Mozilla/5.0 (Windows NT 5.1) AppleWebKit/537.36 (KHTML, like Gecko) Chrome/36.0.1985.67 Safari/537.36',\n 'X-Anit-Forge-Code': '0',\n 'X-Anit-Forge-Token': 'None',\n 'X-Requested-With': 'XMLHttpRequest'}"
      ]
     },
     "execution_count": 22,
     "metadata": {},
     "output_type": "execute_result"
    }
   ],
   "source": [
    "headers"
   ]
  },
  {
   "cell_type": "code",
   "execution_count": 27,
   "metadata": {},
   "outputs": [],
   "source": [
    "rx = requests.post(LAGOU.JOB_JSON_URL, headers=headers, cookies=r.cookies)"
   ]
  },
  {
   "cell_type": "code",
   "execution_count": 28,
   "metadata": {},
   "outputs": [
    {
     "data": {
      "text/plain": [
       "200"
      ]
     },
     "execution_count": 28,
     "metadata": {},
     "output_type": "execute_result"
    }
   ],
   "source": [
    "rx.status_code"
   ]
  },
  {
   "cell_type": "code",
   "execution_count": 29,
   "metadata": {},
   "outputs": [
    {
     "data": {
      "text/plain": [
       "'{\"success\":true,\"requestId\":null,\"resubmitToken\":null,\"msg\":null,\"code\":0,\"content\":{\"pageNo\":1,\"pageSize\":15,\"hrInfoMap\":{\"3776613\":{\"userId\":811225,\"positionName\":\"人事行政部人才招聘室\",\"phone\":null,\"receiveEmail\":null,\"realName\":\"it-hr\",\"portrait\":\"image2/M00/10/DD/CgpzWlYwJWOAKDhpAAAcN9m4Vyo680.JPG\",\"canTalk\":true,\"userLevel\":\"G1\"},\"3755271\":{\"userId\":6524733,\"positionName\":\"\",\"phone\":null,\"receiveEmail\":null,\"realName\":\"ouxiaoman\",\"portrait\":\"i/image2/M00/16/00/CgoB5ln2kAqAGn5sAAHDrrr6s1k643.jpg\",\"canTalk\":true,\"userLevel\":\"G1\"},\"3852489\":{\"userId\":2667,\"positionName\":\"招聘主管\",\"phone\":null,\"receiveEmail\":null,\"realName\":\"毕女士\",\"portrait\":\"i/image/M00/44/94/CgpEMllbLRiAAXgTAAAKsm-_ah8102.jpg\",\"canTalk\":true,\"userLevel\":\"G1\"},\"3839069\":{\"userId\":4682102,\"positionName\":\"人力资源总监\",\"phone\":null,\"receiveEmail\":null,\"realName\":\"Elvis Deng\",\"portrait\":null,\"canTalk\":true,\"userLevel\":\"G1\"},\"3852488\":{\"userId\":1685297,\"positionName\":\"HR\",\"phone\":null,\"receiveEmail\":null,\"realName\":\"qmy\",\"portrait\":\"image2/M00/08/E7/CgqLKVYEx_yAcVPyAAArvJqrw-g159.jpg\",\"canTalk\":true,\"userLevel\":\"G1\"},\"3852487\":{\"userId\":895780,\"positionName\":\"HR\",\"phone\":null,\"receiveEmail\":null,\"realName\":\"会分期\",\"portrait\":\"i/image/M00/35/0A/CgpFT1lDjoeACGG3AABdiEhHLns137.png\",\"canTalk\":true,\"userLevel\":\"G1\"},\"3834462\":{\"userId\":5642204,\"positionName\":\"人力资源\",\"phone\":null,\"receiveEmail\":null,\"realName\":\"hr\",\"portrait\":\"i/image/M00/37/00/CgpFT1lIg-GAB3x5AABnKNDnvl4523.png\",\"canTalk\":true,\"userLevel\":\"G1\"},\"3852486\":{\"userId\":7980994,\"positionName\":\"\",\"phone\":null,\"receiveEmail\":null,\"realName\":\"SZHR\",\"portrait\":null,\"canTalk\":true,\"userLevel\":\"G1\"},\"3852485\":{\"userId\":3112030,\"positionName\":\"招聘专员\",\"phone\":null,\"receiveEmail\":null,\"realName\":\"田灿\",\"portrait\":null,\"canTalk\":true,\"userLevel\":\"G1\"},\"3852484\":{\"userId\":2231747,\"positionName\":\"\",\"phone\":null,\"receiveEmail\":null,\"realName\":\"cdhr\",\"portrait\":\"image2/M00/0E/B5/CgqLKVYl3tmAel7QAAAwbjtVdn0652.jpg\",\"canTalk\":true,\"userLevel\":\"G1\"},\"3852483\":{\"userId\":6802872,\"positionName\":\"项目经理\",\"phone\":null,\"receiveEmail\":null,\"realName\":\"清晨\",\"portrait\":\"i/image/M00/8D/6A/CgqKkViHBoCALMtOAABP8VxCIWg302.png\",\"canTalk\":true,\"userLevel\":\"G1\"},\"3778502\":{\"userId\":7811829,\"positionName\":\"人事专员\",\"phone\":null,\"receiveEmail\":null,\"realName\":\"林成霞\",\"portrait\":\"i/image/M00/6E/56/CgpEMlmwAnSAca-CAAJdNCB6wHY053.jpg\",\"canTalk\":true,\"userLevel\":\"G1\"},\"3831302\":{\"userId\":8950504,\"positionName\":\"HRBP\",\"phone\":null,\"receiveEmail\":null,\"realName\":\"Daniel wei\",\"portrait\":\"i/image2/M00/1C/E6/CgoB5loHnaiAUTt2AAAdnkT1rxI766.png\",\"canTalk\":true,\"userLevel\":\"G1\"},\"3774696\":{\"userId\":4846138,\"positionName\":\"\",\"phone\":null,\"receiveEmail\":null,\"realName\":\"Mei MengMeng\",\"portrait\":null,\"canTalk\":true,\"userLevel\":\"G1\"},\"3818929\":{\"userId\":3624369,\"positionName\":\"行政\",\"phone\":null,\"receiveEmail\":null,\"realName\":\"hr@特略体育\",\"portrait\":\"i/image/M00/2D/D4/CgpFT1k1JpeAQsazAABMPXrCWrQ12.jpeg\",\"canTalk\":true,\"userLevel\":\"G1\"}},\"positionResult\":{\"totalCount\":261193,\"resultSize\":15,\"locationInfo\":{\"city\":null,\"district\":null,\"queryByGisCode\":false,\"businessZone\":null,\"locationCode\":null},\"queryAnalysisInfo\":{\"positionName\":null,\"companyName\":null,\"industryName\":null,\"usefulCompany\":false},\"strategyProperty\":{\"name\":\"dm-csearch-useUserInterest\",\"id\":0},\"hotLabels\":null,\"result\":[{\"companyId\":272198,\"positionId\":3831302,\"industryField\":\"金融\",\"education\":\"不限\",\"workYear\":\"不限\",\"city\":\"成都\",\"positionAdvantage\":\"学习机会,收入高\",\"createTime\":\"2017-11-21 17:23:28\",\"salary\":\"8k-12k\",\"positionName\":\"汽车融资租赁销售专员\",\"companySize\":\"50-150人\",\"companyShortName\":\"联众金融\",\"financeStage\":\"A轮\",\"companyLogo\":\"i/image2/M00/0B/ED/CgotOVnfHf-AKjrCAAB6OSN57nM177.png\",\"jobNature\":\"全职\",\"approve\":0,\"companyLabelList\":[],\"publisherId\":8950504,\"score\":0,\"district\":\"武侯区\",\"positionLables\":[\"金融\",\"汽车\",\"渠道\",\"商务拓展\",\"城市/区域\",\"信贷\"],\"industryLables\":[\"金融\",\"汽车\",\"渠道\",\"商务拓展\",\"城市/区域\",\"信贷\"],\"businessZones\":null,\"lastLogin\":1511255318000,\"explain\":null,\"plus\":null,\"pcShow\":0,\"appShow\":0,\"deliver\":0,\"gradeDescription\":null,\"promotionScoreExplain\":null,\"firstType\":\"市场/商务/销售类\",\"secondType\":\"商务拓展/BD\",\"isSchoolJob\":0,\"imState\":\"threeDays\",\"formatCreateTime\":\"17:23发布\",\"companyFullName\":\"上海曌扬汽车服务有限公司\",\"adWord\":0},{\"companyId\":609,\"positionId\":3852489,\"industryField\":\"电子商务\",\"education\":\"本科\",\"workYear\":\"1-3年\",\"city\":\"北京\",\"positionAdvantage\":\"互联网,薪酬福利好,成长\",\"createTime\":\"2017-11-21 17:23:18\",\"salary\":\"8k-12k\",\"positionName\":\"数据分析师\",\"companySize\":\"500-2000人\",\"companyShortName\":\"高阳捷迅\",\"financeStage\":\"B轮\",\"companyLogo\":\"image1/M00/00/03/CgYXBlTUV_yAcLJxAAAXFAVAf_U965.JPG\",\"jobNature\":\"全职\",\"approve\":1,\"companyLabelList\":[\"免费班车\",\"带薪年假\",\"绩效奖金\",\"年度旅游\"],\"publisherId\":2667,\"score\":0,\"district\":null,\"positionLables\":[],\"industryLables\":[],\"businessZones\":null,\"lastLogin\":1510646778000,\"explain\":null,\"plus\":null,\"pcShow\":0,\"appShow\":0,\"deliver\":0,\"gradeDescription\":null,\"promotionScoreExplain\":null,\"firstType\":\"综合职能类\",\"secondType\":\"财务\",\"isSchoolJob\":0,\"imState\":\"overSevenDays\",\"formatCreateTime\":\"17:23发布\",\"companyFullName\":\"北京高阳捷迅信息技术有限公司\",\"adWord\":0},{\"companyId\":17437,\"positionId\":3852488,\"industryField\":\"文化娱乐\",\"education\":\"大专\",\"workYear\":\"1-3年\",\"city\":\"北京\",\"positionAdvantage\":\"视觉设计\",\"createTime\":\"2017-11-21 17:23:17\",\"salary\":\"8k-10k\",\"positionName\":\"高级视觉设计师（C4D方向）\",\"companySize\":\"15-50人\",\"companyShortName\":\"米多琪\",\"financeStage\":\"未融资\",\"companyLogo\":\"i/image/M00/6C/89/Cgp3O1gdWzaAfOTkAADpNdzLbFs366.png\",\"jobNature\":\"全职\",\"approve\":1,\"companyLabelList\":[\"五险一金\",\"午餐补助\",\"领导好\",\"年终分红\"],\"publisherId\":1685297,\"score\":0,\"district\":null,\"positionLables\":[],\"industryLables\":[],\"businessZones\":null,\"lastLogin\":1511255691000,\"explain\":null,\"plus\":null,\"pcShow\":0,\"appShow\":0,\"deliver\":0,\"gradeDescription\":null,\"promotionScoreExplain\":null,\"firstType\":\"设计类\",\"secondType\":\"视觉设计/平面设计\",\"isSchoolJob\":0,\"imState\":\"today\",\"formatCreateTime\":\"17:23发布\",\"companyFullName\":\"北京米多琪文化有限公司\",\"adWord\":0},{\"companyId\":8583,\"positionId\":3778502,\"industryField\":\"移动互联网\",\"education\":\"本科\",\"workYear\":\"3-5年\",\"city\":\"苏州\",\"positionAdvantage\":\"五险一金,绩效奖金,公费旅游,水果供应\",\"createTime\":\"2017-11-21 17:23:13\",\"salary\":\"5k-10k\",\"positionName\":\"高级运营专员\",\"companySize\":\"150-500人\",\"companyShortName\":\"瑞翼\",\"financeStage\":\"不需要融资\",\"companyLogo\":\"i/image/M00/BB/AF/Cgp3O1jHZ36AEfthAABPVJClfSg213.png\",\"jobNature\":\"全职\",\"approve\":1,\"companyLabelList\":[\"股票期权\",\"专项奖金\",\"绩效奖金\",\"年20%涨薪\"],\"publisherId\":7811829,\"score\":0,\"district\":\"吴中区\",\"positionLables\":[\"数据分析\",\"活动运营\"],\"industryLables\":[],\"businessZones\":[\"独墅湖\"],\"lastLogin\":1511250309000,\"explain\":null,\"plus\":null,\"pcShow\":0,\"appShow\":0,\"deliver\":0,\"gradeDescription\":null,\"promotionScoreExplain\":null,\"firstType\":\"运营/编辑/客服\",\"secondType\":\"运营\",\"isSchoolJob\":0,\"imState\":\"disabled\",\"formatCreateTime\":\"17:23发布\",\"companyFullName\":\"苏州瑞翼信息技术有限公司\",\"adWord\":0},{\"companyId\":46399,\"positionId\":3852487,\"industryField\":\"移动互联网、金融\",\"education\":\"本科\",\"workYear\":\"1-3年\",\"city\":\"北京\",\"positionAdvantage\":\"五险一金,弹性工作,地铁沿线,年度旅游\",\"createTime\":\"2017-11-21 17:23:10\",\"salary\":\"10k-15k\",\"positionName\":\"市场分析师\",\"companySize\":\"50-150人\",\"companyShortName\":\"会分期\",\"financeStage\":\"C轮\",\"companyLogo\":\"i/image/M00/02/83/CgqKkVaTDLmAeVUrAAK2B39-3-M618.jpg\",\"jobNature\":\"全职\",\"approve\":1,\"companyLabelList\":[\"节日礼物\",\"股票期权\",\"带薪年假\",\"年度旅游\"],\"publisherId\":895780,\"score\":0,\"district\":null,\"positionLables\":[],\"industryLables\":[],\"businessZones\":null,\"lastLogin\":1511251623000,\"explain\":null,\"plus\":null,\"pcShow\":0,\"appShow\":0,\"deliver\":0,\"gradeDescription\":null,\"promotionScoreExplain\":null,\"firstType\":\"市场/商务/销售类\",\"secondType\":\"市场/营销\",\"isSchoolJob\":0,\"imState\":\"today\",\"formatCreateTime\":\"17:23发布\",\"companyFullName\":\"会找房（北京）网络技术有限公司\",\"adWord\":0},{\"companyId\":139082,\"positionId\":3834462,\"industryField\":\"移动互联网,企业服务\",\"education\":\"本科\",\"workYear\":\"3-5年\",\"city\":\"武汉\",\"positionAdvantage\":\"弹性工作,领导nic,五险一金,福利待遇优\",\"createTime\":\"2017-11-21 17:23:04\",\"salary\":\"10k-15k\",\"positionName\":\"Java中高级开发工程师\",\"companySize\":\"15-50人\",\"companyShortName\":\"广州麒云萱韬信息科技有限公司\",\"financeStage\":\"天使轮\",\"companyLogo\":\"i/image/M00/0D/CC/CgpFT1jsgk-AFrPaAABWm7C2pcA127.png\",\"jobNature\":\"全职\",\"approve\":1,\"companyLabelList\":[\"股票期权\",\"弹性工作\",\"年度旅游\",\"扁平管理\"],\"publisherId\":5642204,\"score\":0,\"district\":\"东湖新技术开发区\",\"positionLables\":[\"旅游\",\"医疗健康\",\"云服务\",\"redis\",\"架构\"],\"industryLables\":[\"旅游\",\"医疗健康\",\"云服务\",\"redis\",\"架构\"],\"businessZones\":[\"流芳\"],\"lastLogin\":1511253565000,\"explain\":null,\"plus\":null,\"pcShow\":0,\"appShow\":0,\"deliver\":0,\"gradeDescription\":null,\"promotionScoreExplain\":null,\"firstType\":\"开发/测试/运维类\",\"secondType\":\"后端开发\",\"isSchoolJob\":0,\"imState\":\"today\",\"formatCreateTime\":\"17:23发布\",\"companyFullName\":\"广州麒云萱韬信息科技有限公司\",\"adWord\":0},{\"companyId\":107539,\"positionId\":3852486,\"industryField\":\"移动互联网,电子商务\",\"education\":\"大专\",\"workYear\":\"1-3年\",\"city\":\"深圳\",\"positionAdvantage\":\"底薪不封顶,提成不封底,扁平化管理,福利齐全\",\"createTime\":\"2017-11-21 17:23:03\",\"salary\":\"7k-14k\",\"positionName\":\"销售经理（自媒体方向）\",\"companySize\":\"50-150人\",\"companyShortName\":\"筑巢科技\",\"financeStage\":\"不需要融资\",\"companyLogo\":\"i/image/M00/02/93/Cgp3O1aUqtOAHpvxAAAzqISM43I075.png\",\"jobNature\":\"全职\",\"approve\":0,\"companyLabelList\":[\"弹性工作\",\"绩效奖金\",\"专项奖金\",\"年底双薪\"],\"publisherId\":7980994,\"score\":0,\"district\":null,\"positionLables\":[],\"industryLables\":[],\"businessZones\":null,\"lastLogin\":1511255015000,\"explain\":null,\"plus\":null,\"pcShow\":0,\"appShow\":0,\"deliver\":0,\"gradeDescription\":null,\"promotionScoreExplain\":null,\"firstType\":\"市场/商务/销售类\",\"secondType\":\"销售\",\"isSchoolJob\":0,\"imState\":\"today\",\"formatCreateTime\":\"17:23发布\",\"companyFullName\":\"珠海市筑巢科技有限公司\",\"adWord\":0},{\"companyId\":1349,\"positionId\":3852485,\"industryField\":\"移动互联网,企业服务\",\"education\":\"本科\",\"workYear\":\"1-3年\",\"city\":\"北京\",\"positionAdvantage\":\"六险一金,弹性工作,周末双休\",\"createTime\":\"2017-11-21 17:23:00\",\"salary\":\"8k-12k\",\"positionName\":\"大客户销售\",\"companySize\":\"500-2000人\",\"companyShortName\":\"全时\",\"financeStage\":\"D轮及以上\",\"companyLogo\":\"image1/M00/00/05/CgYXBlTUWAOALKVIAAAT0rJ9aIg406.jpg\",\"jobNature\":\"全职\",\"approve\":1,\"companyLabelList\":[\"股票期权\",\"绩效奖金\",\"年底双薪\",\"五险一金\"],\"publisherId\":3112030,\"score\":0,\"district\":null,\"positionLables\":[],\"industryLables\":[],\"businessZones\":null,\"lastLogin\":1511255514000,\"explain\":null,\"plus\":null,\"pcShow\":0,\"appShow\":0,\"deliver\":0,\"gradeDescription\":null,\"promotionScoreExplain\":null,\"firstType\":\"市场/商务/销售类\",\"secondType\":\"销售\",\"isSchoolJob\":0,\"imState\":\"disabled\",\"formatCreateTime\":\"17:23发布\",\"companyFullName\":\"全时云商务服务股份有限公司\",\"adWord\":0},{\"companyId\":53,\"positionId\":3852484,\"industryField\":\"电子商务\",\"education\":\"本科\",\"workYear\":\"3-5年\",\"city\":\"成都\",\"positionAdvantage\":\"五险一金,团队氛围,上升空间\",\"createTime\":\"2017-11-21 17:22:57\",\"salary\":\"10k-15k\",\"positionName\":\"Java\",\"companySize\":\"2000人以上\",\"companyShortName\":\"聚美优品\",\"financeStage\":\"上市公司\",\"companyLogo\":\"image1/M00/00/01/CgYXBlTUV_OABaFeAABtGUbQoLE148.png\",\"jobNature\":\"全职\",\"approve\":1,\"companyLabelList\":[\"技能培训\",\"节日礼物\",\"季度奖金\",\"岗位晋升\"],\"publisherId\":2231747,\"score\":0,\"district\":null,\"positionLables\":[],\"industryLables\":[],\"businessZones\":null,\"lastLogin\":1511255032000,\"explain\":null,\"plus\":null,\"pcShow\":0,\"appShow\":0,\"deliver\":0,\"gradeDescription\":null,\"promotionScoreExplain\":null,\"firstType\":\"开发/测试/运维类\",\"secondType\":\"后端开发\",\"isSchoolJob\":0,\"imState\":\"today\",\"formatCreateTime\":\"17:22发布\",\"companyFullName\":\"北京创锐文化传媒有限公司\",\"adWord\":0},{\"companyId\":167237,\"positionId\":3852483,\"industryField\":\"教育,移动互联网\",\"education\":\"本科\",\"workYear\":\"1-3年\",\"city\":\"上海\",\"positionAdvantage\":\"工作午餐,提供住宿,国内领先,RFID\",\"createTime\":\"2017-11-21 17:22:51\",\"salary\":\"6k-9k\",\"positionName\":\"售前/售后技术支持工程师\",\"companySize\":\"50-150人\",\"companyShortName\":\"知新树\",\"financeStage\":\"不需要融资\",\"companyLogo\":\"i/image/M00/8D/6A/CgqKkViHBvKAXDp3AABP8VxCIWg235.png\",\"jobNature\":\"全职\",\"approve\":1,\"companyLabelList\":[\"专项奖金\",\"绩效奖金\",\"定期体检\",\"弹性工作\"],\"publisherId\":6802872,\"score\":0,\"district\":null,\"positionLables\":[],\"industryLables\":[],\"businessZones\":null,\"lastLogin\":1511254923000,\"explain\":null,\"plus\":null,\"pcShow\":0,\"appShow\":0,\"deliver\":0,\"gradeDescription\":null,\"promotionScoreExplain\":null,\"firstType\":\"产品/需求/项目类\",\"secondType\":\"产品设计/需求分析\",\"isSchoolJob\":0,\"imState\":\"disabled\",\"formatCreateTime\":\"17:22发布\",\"companyFullName\":\"北京知新树科技有限公司\",\"adWord\":0},{\"companyId\":24748,\"positionId\":3776613,\"industryField\":\"金融\",\"education\":\"本科\",\"workYear\":\"不限\",\"city\":\"北京\",\"positionAdvantage\":\"世界500强 带薪年假 节日福利 绩效丰厚\",\"createTime\":\"2017-11-21 17:22:50\",\"salary\":\"10k-15k\",\"positionName\":\"项目管理经理（科研方向）（北京）\",\"companySize\":\"2000人以上\",\"companyShortName\":\"平安科技\",\"financeStage\":\"不需要融资\",\"companyLogo\":\"i/image/M00/7D/7C/Cgp3O1hHwlSAXh_pAACcLWenfL8606.jpg\",\"jobNature\":\"全职\",\"approve\":1,\"companyLabelList\":[\"节日礼物\",\"年度旅游\",\"岗位晋升\",\"技能培训\"],\"publisherId\":811225,\"score\":0,\"district\":\"朝阳区\",\"positionLables\":[\"金融\"],\"industryLables\":[\"金融\"],\"businessZones\":null,\"lastLogin\":1511251199000,\"explain\":null,\"plus\":null,\"pcShow\":0,\"appShow\":0,\"deliver\":0,\"gradeDescription\":null,\"promotionScoreExplain\":null,\"firstType\":\"产品/需求/项目类\",\"secondType\":\"项目管理\",\"isSchoolJob\":0,\"imState\":\"today\",\"formatCreateTime\":\"17:22发布\",\"companyFullName\":\"平安科技（深圳）有限公司\",\"adWord\":0},{\"companyId\":101882,\"positionId\":3755271,\"industryField\":\"移动互联网,O2O\",\"education\":\"本科\",\"workYear\":\"1-3年\",\"city\":\"广州\",\"positionAdvantage\":\"产品好玩,牛人多,扁平管理,多次调薪\",\"createTime\":\"2017-11-21 17:22:48\",\"salary\":\"10k-20k\",\"positionName\":\"java开发（2年以上）\",\"companySize\":\"150-500人\",\"companyShortName\":\"瑞图万方\",\"financeStage\":\"不需要融资\",\"companyLogo\":\"image2/M00/0F/05/CgpzWlYnDSOAZ7CMAAOnNoftoxo226.png?cc=0.46437567030079663\",\"jobNature\":\"全职\",\"approve\":1,\"companyLabelList\":[\"年底双薪\",\"岗位晋升\",\"扁平管理\",\"五险一金\"],\"publisherId\":6524733,\"score\":0,\"district\":\"天河区\",\"positionLables\":[\"中级\",\"hadoop\",\"数据\",\"云服务\",\"智能服务\"],\"industryLables\":[],\"businessZones\":[\"棠下\",\"天河公园\",\"天园\"],\"lastLogin\":1511226919000,\"explain\":null,\"plus\":null,\"pcShow\":0,\"appShow\":0,\"deliver\":0,\"gradeDescription\":null,\"promotionScoreExplain\":null,\"firstType\":\"开发/测试/运维类\",\"secondType\":\"后端开发\",\"isSchoolJob\":0,\"imState\":\"today\",\"formatCreateTime\":\"17:22发布\",\"companyFullName\":\"广东瑞图万方科技股份有限公司广州分公司\",\"adWord\":0},{\"companyId\":150265,\"positionId\":3818929,\"industryField\":\"移动互联网,文化娱乐\",\"education\":\"本科\",\"workYear\":\"1-3年\",\"city\":\"福州\",\"positionAdvantage\":\"扁平管理,校园足球\",\"createTime\":\"2017-11-21 17:22:44\",\"salary\":\"7k-12k\",\"positionName\":\"全栈工程师\",\"companySize\":\"少于15人\",\"companyShortName\":\"特略体育\",\"financeStage\":\"天使轮\",\"companyLogo\":\"i/image/M00/5F/0E/Cgp3O1fuckeAE9ksAABp2E-rCTk427.jpg\",\"jobNature\":\"全职\",\"approve\":1,\"companyLabelList\":[\"股票期权\",\"扁平管理\",\"节日礼物\",\"弹性工作\"],\"publisherId\":3624369,\"score\":0,\"district\":\"仓山区\",\"positionLables\":[\"总监\",\"软件开发\",\"node.js\",\"golang\"],\"industryLables\":[],\"businessZones\":null,\"lastLogin\":1511178027000,\"explain\":null,\"plus\":null,\"pcShow\":0,\"appShow\":0,\"deliver\":0,\"gradeDescription\":null,\"promotionScoreExplain\":null,\"firstType\":\"开发/测试/运维类\",\"secondType\":\"软件开发\",\"isSchoolJob\":0,\"imState\":\"today\",\"formatCreateTime\":\"17:22发布\",\"companyFullName\":\"福州特略体育文化传播有限公司\",\"adWord\":0},{\"companyId\":116167,\"positionId\":3774696,\"industryField\":\"移动互联网,企业服务\",\"education\":\"大专\",\"workYear\":\"1-3年\",\"city\":\"郑州\",\"positionAdvantage\":\"五险一金,年底双薪,年底分红,节日福利\",\"createTime\":\"2017-11-21 17:22:43\",\"salary\":\"4k-8k\",\"positionName\":\"新媒体运营-五险一金-双休\",\"companySize\":\"15-50人\",\"companyShortName\":\"掌尚科技\",\"financeStage\":\"不需要融资\",\"companyLogo\":\"i/image/M00/07/D9/Cgp3O1bOybCAPkVpAAAkcwrm9nE794.jpg\",\"jobNature\":\"全职\",\"approve\":0,\"companyLabelList\":[],\"publisherId\":4846138,\"score\":0,\"district\":\"郑东新区\",\"positionLables\":[\"移动互联网\",\"广告营销\",\"策划\",\"微信开发\"],\"industryLables\":[\"移动互联网\",\"广告营销\",\"策划\",\"微信开发\"],\"businessZones\":null,\"lastLogin\":1511243664000,\"explain\":null,\"plus\":null,\"pcShow\":0,\"appShow\":0,\"deliver\":0,\"gradeDescription\":null,\"promotionScoreExplain\":null,\"firstType\":\"运营/编辑/客服\",\"secondType\":\"运营\",\"isSchoolJob\":0,\"imState\":\"disabled\",\"formatCreateTime\":\"17:22发布\",\"companyFullName\":\"郑州掌尚信息技术有限公司\",\"adWord\":0},{\"companyId\":122322,\"positionId\":3839069,\"industryField\":\"移动互联网,企业服务\",\"education\":\"本科\",\"workYear\":\"1-3年\",\"city\":\"广州\",\"positionAdvantage\":\"数据分析,Pytho,SQL,算法\",\"createTime\":\"2017-11-21 17:22:34\",\"salary\":\"6k-12k\",\"positionName\":\"Python开发工程师\",\"companySize\":\"15-50人\",\"companyShortName\":\"纳指电子\",\"financeStage\":\"不需要融资\",\"companyLogo\":\"i/image/M00/30/1C/CgqKkVdFYiGAN6gyAAAVDplj6to259.png\",\"jobNature\":\"全职\",\"approve\":1,\"companyLabelList\":[\"扁平管理\",\"技能培训\",\"弹性工作\"],\"publisherId\":4682102,\"score\":0,\"district\":\"番禺区\",\"positionLables\":[\"数据分析\",\"SQL\"],\"industryLables\":[],\"businessZones\":null,\"lastLogin\":1511254836000,\"explain\":null,\"plus\":null,\"pcShow\":0,\"appShow\":0,\"deliver\":0,\"gradeDescription\":null,\"promotionScoreExplain\":null,\"firstType\":\"开发/测试/运维类\",\"secondType\":\"数据开发\",\"isSchoolJob\":0,\"imState\":\"today\",\"formatCreateTime\":\"17:22发布\",\"companyFullName\":\"广州纳指电子科技有限公司\",\"adWord\":0}]}}}'"
      ]
     },
     "execution_count": 29,
     "metadata": {},
     "output_type": "execute_result"
    }
   ],
   "source": [
    "rx.text"
   ]
  },
  {
   "cell_type": "code",
   "execution_count": null,
   "metadata": {},
   "outputs": [],
   "source": [
    ""
   ]
  }
 ],
 "metadata": {
  "kernelspec": {
   "display_name": "Python 2",
   "language": "python",
   "name": "python2"
  },
  "language_info": {
   "codemirror_mode": {
    "name": "ipython",
    "version": 2.0
   },
   "file_extension": ".py",
   "mimetype": "text/x-python",
   "name": "python",
   "nbconvert_exporter": "python",
   "pygments_lexer": "ipython2",
   "version": "2.7.6"
  }
 },
 "nbformat": 4,
 "nbformat_minor": 0
}